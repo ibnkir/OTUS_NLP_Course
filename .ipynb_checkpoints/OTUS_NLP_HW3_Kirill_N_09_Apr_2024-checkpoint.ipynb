{
 "cells": [
  {
   "cell_type": "markdown",
   "metadata": {},
   "source": [
    "## OTUS, Курс NLP\n",
    "## ДЗ №03: Тематическое моделирование\n",
    "### Выполнил: Кирилл Н., ibnkir@yandex.ru, 09.04.2024 г.\n",
    "***"
   ]
  },
  {
   "cell_type": "markdown",
   "metadata": {},
   "source": [
    "__Задание:__\n",
    "\n",
    "В качестве данных возьмите либо датасет, собранный на первом занятии (предпочтительно), либо скачайте данные с \n",
    "отзывами на фильмы с сайта [IMDB](https://www.kaggle.com/lakshmi25npathi/imdb-dataset-of-50k-movie-reviews), \n",
    "в которых для каждого отзыва поставлена семантическая оценка - \"позитивный\" или \"негативный\".\n",
    "    \n",
    "1. Разбейте собранные данные на train/test, отложив 20-30% наблюдений для тестирования.\n",
    "2. Примените tf-idf преобразование для текстового описания. Используйте как отдельные токены, так и биграммы, отсейте стоп-слова, а также слова, которые встречаются слишком редко или слишком часто (параметры min/max_df), не забудьте убрать l2 регуляризацию, которая по умолчанию включена.\n",
    "3. Обучите random forest или градиентный бустинг (LightGBM или catboost) на полученных векторах и подберите оптимальную комбинацию гиперпараметров с помощью GridSearch\n",
    "4. Теперь воспользуйтесь предобученными word2vec/fasttext эмбеддингами для векторизации текста. Векторизуйте тексты с помощью метода word2vec/fasttext c весами tf-idf\n",
    "Совет: для текстов на русском языке можно взять предобученные эмбеддинги с сайта rusvectores https://rusvectores.org/ru/models/ (вам подходят эмбеддинги с параметром тэгсет НЕТ). Для английского языка можете воспользоваться word2vec, обученными на Google News\n",
    "5. Повторите эксперимент из пункта 3 с использованием полученных в пункте 4 векторов."
   ]
  },
  {
   "cell_type": "code",
   "execution_count": 1,
   "metadata": {},
   "outputs": [],
   "source": [
    "import numpy as np\n",
    "import pandas as pd\n",
    "pd.set_option('display.max_columns', None)  \n",
    "pd.set_option('display.expand_frame_repr', False)\n",
    "pd.set_option('max_colwidth', 800)\n",
    "\n",
    "from sklearn.model_selection import train_test_split, GridSearchCV, KFold\n",
    "from sklearn.feature_extraction.text import TfidfVectorizer\n",
    "from sklearn.metrics import classification_report, accuracy_score, f1_score\n",
    "from sklearn.preprocessing import LabelEncoder\n",
    "from sklearn.ensemble import RandomForestClassifier\n",
    "\n",
    "import gensim\n",
    "import gensim.downloader\n",
    "\n",
    "from collections import defaultdict\n",
    "from tqdm import tqdm\n",
    "\n",
    "import warnings\n",
    "warnings.filterwarnings(\"ignore\")\n",
    "\n",
    "import logging\n",
    "logging.basicConfig(format='%(asctime)s : %(levelname)s : %(message)s', level=logging.INFO)"
   ]
  },
  {
   "cell_type": "markdown",
   "metadata": {},
   "source": [
    "#### Получение исходных данных"
   ]
  },
  {
   "cell_type": "markdown",
   "metadata": {},
   "source": [
    "Загружаем данные из ДЗ №1 (новости на Хабре)"
   ]
  },
  {
   "cell_type": "code",
   "execution_count": 2,
   "metadata": {},
   "outputs": [
    {
     "name": "stdout",
     "output_type": "stream",
     "text": [
      "20000\n"
     ]
    },
    {
     "data": {
      "text/html": [
       "<div>\n",
       "<style scoped>\n",
       "    .dataframe tbody tr th:only-of-type {\n",
       "        vertical-align: middle;\n",
       "    }\n",
       "\n",
       "    .dataframe tbody tr th {\n",
       "        vertical-align: top;\n",
       "    }\n",
       "\n",
       "    .dataframe thead th {\n",
       "        text-align: right;\n",
       "    }\n",
       "</style>\n",
       "<table border=\"1\" class=\"dataframe\">\n",
       "  <thead>\n",
       "    <tr style=\"text-align: right;\">\n",
       "      <th></th>\n",
       "      <th>body</th>\n",
       "      <th>categs</th>\n",
       "    </tr>\n",
       "    <tr>\n",
       "      <th>idx</th>\n",
       "      <th></th>\n",
       "      <th></th>\n",
       "    </tr>\n",
       "  </thead>\n",
       "  <tbody>\n",
       "    <tr>\n",
       "      <th>16296</th>\n",
       "      <td>Apple выпустила macOS Ventura и iPadOS 16.1. Вместе с ними стали доступны минорные обновления всех остальных операционных систем компании.</td>\n",
       "      <td>Разработка под iOS;Разработка под macOS;Планшеты;Ноутбуки</td>\n",
       "    </tr>\n",
       "    <tr>\n",
       "      <th>9489</th>\n",
       "      <td>МТС и VK до конца года вдвое увеличат мощности и возможности своих сетей доставки контента (CDN), чтобы ускорить загрузку контента стриминговых сервисов для российских пользователей.</td>\n",
       "      <td>IT-инфраструктура;Сетевые технологии;Облачные сервисы;IT-компании</td>\n",
       "    </tr>\n",
       "    <tr>\n",
       "      <th>17220</th>\n",
       "      <td>28 сентября 2022 года Роскомнадзор потребовал от Apple объяснить удаление всех мобильных приложений российской компании VK из магазина App Store.</td>\n",
       "      <td>Разработка под iOS;Законодательство в IT;Социальные сети и сообщества;IT-компании</td>\n",
       "    </tr>\n",
       "    <tr>\n",
       "      <th>4697</th>\n",
       "      <td>Вопреки слухам, Apple не стала ограничивать скорость USB-C на iPhone 15, порт совместим с любыми зарядными устройствами и кабелями с поддержкой USB 3 и USB Power Delivery, включая кабели сторонних производителей.</td>\n",
       "      <td>Гаджеты;Смартфоны;Энергия и элементы питания</td>\n",
       "    </tr>\n",
       "    <tr>\n",
       "      <th>12431</th>\n",
       "      <td>Apple в полном объёме исполнила предписание Федеральной антимонопольной службы, выданное в 2020 году после расследования, проведённого по жалобе «Лаборатории Касперского».</td>\n",
       "      <td>Законодательство в IT;IT-компании</td>\n",
       "    </tr>\n",
       "  </tbody>\n",
       "</table>\n",
       "</div>"
      ],
      "text/plain": [
       "                                                                                                                                                                                                                       body                                                                             categs\n",
       "idx                                                                                                                                                                                                                                                                                                           \n",
       "16296                                                                            Apple выпустила macOS Ventura и iPadOS 16.1. Вместе с ними стали доступны минорные обновления всех остальных операционных систем компании.                          Разработка под iOS;Разработка под macOS;Планшеты;Ноутбуки\n",
       "9489                                 МТС и VK до конца года вдвое увеличат мощности и возможности своих сетей доставки контента (CDN), чтобы ускорить загрузку контента стриминговых сервисов для российских пользователей.                  IT-инфраструктура;Сетевые технологии;Облачные сервисы;IT-компании\n",
       "17220                                                                     28 сентября 2022 года Роскомнадзор потребовал от Apple объяснить удаление всех мобильных приложений российской компании VK из магазина App Store.  Разработка под iOS;Законодательство в IT;Социальные сети и сообщества;IT-компании\n",
       "4697   Вопреки слухам, Apple не стала ограничивать скорость USB-C на iPhone 15, порт совместим с любыми зарядными устройствами и кабелями с поддержкой USB 3 и USB Power Delivery, включая кабели сторонних производителей.                                       Гаджеты;Смартфоны;Энергия и элементы питания\n",
       "12431                                           Apple в полном объёме исполнила предписание Федеральной антимонопольной службы, выданное в 2020 году после расследования, проведённого по жалобе «Лаборатории Касперского».                                                  Законодательство в IT;IT-компании"
      ]
     },
     "execution_count": 2,
     "metadata": {},
     "output_type": "execute_result"
    }
   ],
   "source": [
    "data = pd.read_excel('habr_news_dataset_20240218.xlsx', usecols=['idx', 'body', 'categs'], index_col=0)\n",
    "print(len(data))\n",
    "data.sample(5)"
   ]
  },
  {
   "cell_type": "markdown",
   "metadata": {},
   "source": [
    "Каждой статье соответствует несколько категорий, возьмем самые первые из них"
   ]
  },
  {
   "cell_type": "code",
   "execution_count": 3,
   "metadata": {},
   "outputs": [
    {
     "data": {
      "text/html": [
       "<div>\n",
       "<style scoped>\n",
       "    .dataframe tbody tr th:only-of-type {\n",
       "        vertical-align: middle;\n",
       "    }\n",
       "\n",
       "    .dataframe tbody tr th {\n",
       "        vertical-align: top;\n",
       "    }\n",
       "\n",
       "    .dataframe thead th {\n",
       "        text-align: right;\n",
       "    }\n",
       "</style>\n",
       "<table border=\"1\" class=\"dataframe\">\n",
       "  <thead>\n",
       "    <tr style=\"text-align: right;\">\n",
       "      <th></th>\n",
       "      <th>body</th>\n",
       "      <th>categs</th>\n",
       "    </tr>\n",
       "    <tr>\n",
       "      <th>idx</th>\n",
       "      <th></th>\n",
       "      <th></th>\n",
       "    </tr>\n",
       "  </thead>\n",
       "  <tbody>\n",
       "    <tr>\n",
       "      <th>6763</th>\n",
       "      <td>Tesla подаёт в суд на компанию по производству суперконденсаторов в Австралии за нарушение патентных прав. При этом автопроизводитель ранее обещал открыть все свои патенты.</td>\n",
       "      <td>Законодательство в IT</td>\n",
       "    </tr>\n",
       "    <tr>\n",
       "      <th>14260</th>\n",
       "      <td>14 декабря 2022 года ретейлер DNS начал продавать карты оплаты для польского PS Store (номиналом от 50 до 200 злотых) с инструкцией, как завести польский аккаунт PS Store.</td>\n",
       "      <td>Монетизация игр</td>\n",
       "    </tr>\n",
       "    <tr>\n",
       "      <th>18380</th>\n",
       "      <td>В магазинах американской сети Walmart и на AliExpress обнаружили модели внешних SSD объёмом на 1 ГБ, продающиеся как 30 ТБ. Их стоимость составляет всего $31-39, что очень насторожило некоторых пользователей Сети. Один из них (Ray Redacted) купил SSD на AliExpress и разобрал, чтобы понять, почему устройства так дёшево стоят. Оказалось, что фактический объём накопителей во много раз меньше заявленного, а из-за смены прошивки компьютер опознаёт их с неверным объёмом.</td>\n",
       "      <td>Накопители</td>\n",
       "    </tr>\n",
       "    <tr>\n",
       "      <th>7453</th>\n",
       "      <td>Virgin Galactic представила членов экипажа, которые 29 июня отправятся на борт миссии «Galactic 01» в рамках первого полностью коммерческого пилотируемого космического полёта компании. В состав команды войдут Колин Беннетт, ведущий астронавт-инструктор Virgin Galactic, Уолтер Вилладеи и Анджело Ландольфи — два старших офицера итальянских ВВС, а также Панталеоне Карлуччи, пилот и технический инженер из Национального исследовательского совета Италии.</td>\n",
       "      <td>Космонавтика</td>\n",
       "    </tr>\n",
       "    <tr>\n",
       "      <th>16365</th>\n",
       "      <td>С 21 ноября 2022 года стоимость семейного тарифного плана видеосервиса YouTube Premium увеличится с $17,99 до $22,99 в месяц. Данный тип подписки открывает доступ к дополнительным функциям шести учётных записей за фиксированную плату.</td>\n",
       "      <td>Облачные сервисы</td>\n",
       "    </tr>\n",
       "  </tbody>\n",
       "</table>\n",
       "</div>"
      ],
      "text/plain": [
       "                                                                                                                                                                                                                                                                                                                                                                                                                                                                                        body                 categs\n",
       "idx                                                                                                                                                                                                                                                                                                                                                                                                                                                                                                                \n",
       "6763                                                                                                                                                                                                                                                                                                            Tesla подаёт в суд на компанию по производству суперконденсаторов в Австралии за нарушение патентных прав. При этом автопроизводитель ранее обещал открыть все свои патенты.  Законодательство в IT\n",
       "14260                                                                                                                                                                                                                                                                                                            14 декабря 2022 года ретейлер DNS начал продавать карты оплаты для польского PS Store (номиналом от 50 до 200 злотых) с инструкцией, как завести польский аккаунт PS Store.        Монетизация игр\n",
       "18380  В магазинах американской сети Walmart и на AliExpress обнаружили модели внешних SSD объёмом на 1 ГБ, продающиеся как 30 ТБ. Их стоимость составляет всего $31-39, что очень насторожило некоторых пользователей Сети. Один из них (Ray Redacted) купил SSD на AliExpress и разобрал, чтобы понять, почему устройства так дёшево стоят. Оказалось, что фактический объём накопителей во много раз меньше заявленного, а из-за смены прошивки компьютер опознаёт их с неверным объёмом.             Накопители\n",
       "7453                    Virgin Galactic представила членов экипажа, которые 29 июня отправятся на борт миссии «Galactic 01» в рамках первого полностью коммерческого пилотируемого космического полёта компании. В состав команды войдут Колин Беннетт, ведущий астронавт-инструктор Virgin Galactic, Уолтер Вилладеи и Анджело Ландольфи — два старших офицера итальянских ВВС, а также Панталеоне Карлуччи, пилот и технический инженер из Национального исследовательского совета Италии.           Космонавтика\n",
       "16365                                                                                                                                                                                                                                             С 21 ноября 2022 года стоимость семейного тарифного плана видеосервиса YouTube Premium увеличится с $17,99 до $22,99 в месяц. Данный тип подписки открывает доступ к дополнительным функциям шести учётных записей за фиксированную плату.       Облачные сервисы"
      ]
     },
     "execution_count": 3,
     "metadata": {},
     "output_type": "execute_result"
    }
   ],
   "source": [
    "data['categs'] = data['categs'].apply(lambda x: x.split(';')[0])\n",
    "data.sample(5)"
   ]
  },
  {
   "cell_type": "markdown",
   "metadata": {},
   "source": [
    "Посмотрим самые популярные категории"
   ]
  },
  {
   "cell_type": "code",
   "execution_count": 4,
   "metadata": {},
   "outputs": [
    {
     "name": "stdout",
     "output_type": "stream",
     "text": [
      "categs\n",
      "Информационная безопасность      1944\n",
      "Научно-популярное                1891\n",
      "Законодательство в IT             812\n",
      "Гаджеты                           770\n",
      "IT-инфраструктура                 636\n",
      "                                 ... \n",
      "VIM                                 1\n",
      "Блог компании Журнал Хакер          1\n",
      "Блог компании Mindbox               1\n",
      "Microsoft SQL Server                1\n",
      "Блог компании РН-БашНИПИнефть       1\n",
      "Name: count, Length: 432, dtype: int64\n"
     ]
    }
   ],
   "source": [
    "all_categs = data['categs'].value_counts()\n",
    "print(all_categs)"
   ]
  },
  {
   "cell_type": "markdown",
   "metadata": {},
   "source": [
    "Оставим статьи, относящиеся к 5 самым большим категориям"
   ]
  },
  {
   "cell_type": "code",
   "execution_count": 5,
   "metadata": {},
   "outputs": [
    {
     "name": "stdout",
     "output_type": "stream",
     "text": [
      "Index(['Информационная безопасность', 'Научно-популярное',\n",
      "       'Законодательство в IT', 'Гаджеты', 'IT-инфраструктура'],\n",
      "      dtype='object', name='categs')\n"
     ]
    }
   ],
   "source": [
    "selected_categs = all_categs.index[:5]\n",
    "print(selected_categs)"
   ]
  },
  {
   "cell_type": "code",
   "execution_count": 6,
   "metadata": {},
   "outputs": [
    {
     "name": "stdout",
     "output_type": "stream",
     "text": [
      "6053\n"
     ]
    },
    {
     "data": {
      "text/html": [
       "<div>\n",
       "<style scoped>\n",
       "    .dataframe tbody tr th:only-of-type {\n",
       "        vertical-align: middle;\n",
       "    }\n",
       "\n",
       "    .dataframe tbody tr th {\n",
       "        vertical-align: top;\n",
       "    }\n",
       "\n",
       "    .dataframe thead th {\n",
       "        text-align: right;\n",
       "    }\n",
       "</style>\n",
       "<table border=\"1\" class=\"dataframe\">\n",
       "  <thead>\n",
       "    <tr style=\"text-align: right;\">\n",
       "      <th></th>\n",
       "      <th>body</th>\n",
       "      <th>categs</th>\n",
       "    </tr>\n",
       "  </thead>\n",
       "  <tbody>\n",
       "    <tr>\n",
       "      <th>0</th>\n",
       "      <td>Пользователь Reddit под ником VegetableLuck обнаружила и поделилась зловредом для ПК, спрятанным в электронике контролера зарядного блока гаджета для взрослых. Код малвари начали изучать эксперты.</td>\n",
       "      <td>Информационная безопасность</td>\n",
       "    </tr>\n",
       "    <tr>\n",
       "      <th>1</th>\n",
       "      <td>Wyze Labs расследует проблему безопасности во время сбоя в обслуживании своей системы умных камер. Некоторые клиенты смогли получить доступ с камер других пользователей во вкладке «События» в приложении.</td>\n",
       "      <td>Информационная безопасность</td>\n",
       "    </tr>\n",
       "    <tr>\n",
       "      <th>2</th>\n",
       "      <td>Google тестирует новую функцию, предотвращающую атаки с помощью вредоносных общедоступных веб-сайтов через браузер пользователей в частных сетях. Она позволит защитить принтеры, маршрутизаторы и иные устройства, не подключённые к Интернету напрямую.</td>\n",
       "      <td>Информационная безопасность</td>\n",
       "    </tr>\n",
       "    <tr>\n",
       "      <th>3</th>\n",
       "      <td>Исследователи Group-IB обнаружили троян GoldPickaxe, который похищает биометрические данные пользователей iPhone. Отмечается, что злоумышленники используют их для создания дипфейков.</td>\n",
       "      <td>Информационная безопасность</td>\n",
       "    </tr>\n",
       "    <tr>\n",
       "      <th>4</th>\n",
       "      <td>НАСА открыло набор кандидатов для участия в миссии, целью которой является моделирование жизни на Марсе в течение года. Проект под названием CHAPEA станет вторым из серии трёх наземных миссий. Он стартует весной 2025 года.</td>\n",
       "      <td>Научно-популярное</td>\n",
       "    </tr>\n",
       "  </tbody>\n",
       "</table>\n",
       "</div>"
      ],
      "text/plain": [
       "                                                                                                                                                                                                                                                        body                       categs\n",
       "0                                                       Пользователь Reddit под ником VegetableLuck обнаружила и поделилась зловредом для ПК, спрятанным в электронике контролера зарядного блока гаджета для взрослых. Код малвари начали изучать эксперты.  Информационная безопасность\n",
       "1                                                Wyze Labs расследует проблему безопасности во время сбоя в обслуживании своей системы умных камер. Некоторые клиенты смогли получить доступ с камер других пользователей во вкладке «События» в приложении.  Информационная безопасность\n",
       "2  Google тестирует новую функцию, предотвращающую атаки с помощью вредоносных общедоступных веб-сайтов через браузер пользователей в частных сетях. Она позволит защитить принтеры, маршрутизаторы и иные устройства, не подключённые к Интернету напрямую.  Информационная безопасность\n",
       "3                                                                     Исследователи Group-IB обнаружили троян GoldPickaxe, который похищает биометрические данные пользователей iPhone. Отмечается, что злоумышленники используют их для создания дипфейков.  Информационная безопасность\n",
       "4                             НАСА открыло набор кандидатов для участия в миссии, целью которой является моделирование жизни на Марсе в течение года. Проект под названием CHAPEA станет вторым из серии трёх наземных миссий. Он стартует весной 2025 года.            Научно-популярное"
      ]
     },
     "execution_count": 6,
     "metadata": {},
     "output_type": "execute_result"
    }
   ],
   "source": [
    "data = data[data['categs'].isin(selected_categs)].reset_index(drop=True)\n",
    "print(len(data))\n",
    "data.head(5)"
   ]
  },
  {
   "cell_type": "markdown",
   "metadata": {},
   "source": [
    "#### Предобработка текстовых данных"
   ]
  },
  {
   "cell_type": "markdown",
   "metadata": {},
   "source": [
    "Воспользуемся моделью [ru_core_news_md](https://spacy.io/models/ru) из библиотеки spacy, чтобы получить леммы с тегами, т.к. далее мы будем использовать word2vec-модель с тегами Universal Tags (анализатор из библиотеки pymorphy не подходит, т.к. он генерирует теги из другого набора - OpenCorpora)"
   ]
  },
  {
   "cell_type": "code",
   "execution_count": null,
   "metadata": {},
   "outputs": [],
   "source": [
    "#!pip install -U spacy>=3.0"
   ]
  },
  {
   "cell_type": "code",
   "execution_count": null,
   "metadata": {},
   "outputs": [],
   "source": [
    "#!python -m spacy download ru_core_news_md"
   ]
  },
  {
   "cell_type": "code",
   "execution_count": 7,
   "metadata": {},
   "outputs": [
    {
     "name": "stderr",
     "output_type": "stream",
     "text": [
      "2024-04-09 21:21:04,120 : INFO : Loading dictionaries from C:\\Users\\Kirill_Nosov\\anaconda3\\Lib\\site-packages\\pymorphy3_dicts_ru\\data\n",
      "2024-04-09 21:21:04,185 : INFO : format: 2.4, revision: 417150, updated: 2022-01-08T22:09:24.565962\n"
     ]
    }
   ],
   "source": [
    "import spacy\n",
    "\n",
    "nlp = spacy.load('ru_core_news_md')"
   ]
  },
  {
   "cell_type": "markdown",
   "metadata": {},
   "source": [
    "Проводим предобработку новостей из колонки 'body', оставляя только слова, относящиеся к значащим частям речи и не входящим в стоп-лист. Результаты сохраняем в новой колонке 'preproc_body'"
   ]
  },
  {
   "cell_type": "code",
   "execution_count": 8,
   "metadata": {},
   "outputs": [
    {
     "name": "stderr",
     "output_type": "stream",
     "text": [
      "100%|██████████████████████████████████████████████████████████████████████████████| 6053/6053 [02:13<00:00, 45.49it/s]\n"
     ]
    }
   ],
   "source": [
    "from spacy.lang.ru import stop_words\n",
    "\n",
    "stop_words = stop_words.STOP_WORDS\n",
    "selected_pos = {'NOUN', 'VERB', 'ADV', 'ADJ', 'PROPN'}\n",
    "\n",
    "preproc_body = []\n",
    "for doc in tqdm(nlp.pipe(data['body']), total=len(data)):\n",
    "    preproc_body.append(\n",
    "        ' '.join([\n",
    "            f\"{token.lemma_.lower().strip()}_{token.pos_}\" \\\n",
    "            for token in doc \\\n",
    "            if token.pos_ in selected_pos and not (token.is_space or token.is_stop or token.is_punct or token.like_num)\n",
    "        ])\n",
    "    )\n",
    "    \n",
    "data['preproc_body'] = preproc_body"
   ]
  },
  {
   "cell_type": "code",
   "execution_count": 9,
   "metadata": {},
   "outputs": [
    {
     "data": {
      "text/html": [
       "<div>\n",
       "<style scoped>\n",
       "    .dataframe tbody tr th:only-of-type {\n",
       "        vertical-align: middle;\n",
       "    }\n",
       "\n",
       "    .dataframe tbody tr th {\n",
       "        vertical-align: top;\n",
       "    }\n",
       "\n",
       "    .dataframe thead th {\n",
       "        text-align: right;\n",
       "    }\n",
       "</style>\n",
       "<table border=\"1\" class=\"dataframe\">\n",
       "  <thead>\n",
       "    <tr style=\"text-align: right;\">\n",
       "      <th></th>\n",
       "      <th>body</th>\n",
       "      <th>categs</th>\n",
       "      <th>preproc_body</th>\n",
       "    </tr>\n",
       "  </thead>\n",
       "  <tbody>\n",
       "    <tr>\n",
       "      <th>614</th>\n",
       "      <td>30 ноября 2023 года компания Zyxel предупредила о шести уязвимостях, включая три критические (высокого уровня опасности), которые обнаружили специалисты по ИБ во встроенном ПО для популярных сетевых хранилищ NAS326 (версия прошивки 5.21(AAZF.14)C0 и более ранняя) и NAS542 (версия прошивки 5.21(ABAG.11)C0 и более ранняя).</td>\n",
       "      <td>Информационная безопасность</td>\n",
       "      <td>ноябрь_NOUN год_NOUN компания_NOUN zyxel_PROPN предупредить_VERB уязвимость_NOUN критический_ADJ высокий_ADJ уровень_NOUN опасность_NOUN обнаружить_VERB специалист_NOUN иб_PROPN встроенном_ADJ популярный_ADJ сетевой_ADJ хранилище_NOUN nas326_PROPN версия_NOUN прошивка_NOUN ранний_ADJ nas542_PROPN версия_NOUN прошивка_NOUN ранний_ADJ</td>\n",
       "    </tr>\n",
       "    <tr>\n",
       "      <th>2902</th>\n",
       "      <td>Согласно последним исследованиям, Nematostella vectensis (литоральные роющие актинии из семейства Edwardsiidae) способны к удивительно сложному обучению, о чем свидетельствует их способность запоминать связь между светом и электрическими импульсами.\\n_x000D_\\n«Это именно то, что называется ассоциативным обучением, — говорит старший автор работы, нейробиолог из Фрибургского университета Саймон Шпрехер. — Доказательство того, что даже животные без мозга способны демонстрировать сложное поведение благодаря только лишь своей нервной системе».\\n_x000D_\\nЖивотные с мозгом могут связать стимул с реакцией и изменить своё поведение, основываясь на том, что они узнали и запомнили. Например, если вам не повезло узнать, что прикосновение к горячей плите причиняет боль, вы измените своё поведение, ...</td>\n",
       "      <td>Научно-популярное</td>\n",
       "      <td>последний_ADJ исследование_NOUN литоральный_ADJ рыть_VERB актиния_NOUN семейство_NOUN edwardsiidae_PROPN способный_ADJ удивительно_ADV сложный_ADJ обучение_NOUN свидетельствовать_VERB способность_NOUN запоминать_VERB связь_NOUN свет_NOUN электрический_ADJ импульсами_NOUN называться_VERB ассоциативный_ADJ обучение_NOUN говорить_VERB старший_ADJ автор_NOUN работа_NOUN нейробиолог_NOUN фрибургского_ADJ университет_NOUN саймон_PROPN шпрехер_PROPN доказательство_NOUN животное_NOUN мозг_NOUN способный_ADJ демонстрировать_VERB сложный_ADJ поведение_NOUN нервный_ADJ система_NOUN животное_NOUN мозг_NOUN связать_VERB стимул_NOUN реакция_NOUN изменить_VERB поведение_NOUN основываться_VERB узнать_VERB запомнить_VERB повезти_VERB узнать_VERB прикосновение_NOUN горячий_ADJ плита_NOUN причинять_VERB ...</td>\n",
       "    </tr>\n",
       "    <tr>\n",
       "      <th>1562</th>\n",
       "      <td>В Сбербанке предупредили, что мошенники часто создают фальшивые сети Wi-Fi и взламывают уже действующие публичные точки доступа, чтобы получать персональные данные россиян для кражи денег со счетов.</td>\n",
       "      <td>Информационная безопасность</td>\n",
       "      <td>сбербанк_PROPN предупредить_VERB мошенник_NOUN создавать_VERB фальшивый_ADJ сеть_NOUN wi_NOUN fi_PROPN взламывать_VERB действовать_VERB публичный_ADJ точка_NOUN доступ_NOUN получать_VERB персональный_ADJ россиянин_NOUN кража_NOUN деньга_NOUN счёт_NOUN</td>\n",
       "    </tr>\n",
       "  </tbody>\n",
       "</table>\n",
       "</div>"
      ],
      "text/plain": [
       "                                                                                                                                                                                                                                                                                                                                                                                                                                                                                                                                                                                                                                                                                                                                                                                                                                 body                       categs                                                                                                                                                                                                                                                                                                                                                                                                                                                                                                                                                                                                                                                                                                                                                                                                                     preproc_body\n",
       "614                                                                                                                                                                                                                                                                                                                                                                                                                                                                                                30 ноября 2023 года компания Zyxel предупредила о шести уязвимостях, включая три критические (высокого уровня опасности), которые обнаружили специалисты по ИБ во встроенном ПО для популярных сетевых хранилищ NAS326 (версия прошивки 5.21(AAZF.14)C0 и более ранняя) и NAS542 (версия прошивки 5.21(ABAG.11)C0 и более ранняя).  Информационная безопасность                                                                                                                                                                                                                                                                                                                                                                                                                                                                                   ноябрь_NOUN год_NOUN компания_NOUN zyxel_PROPN предупредить_VERB уязвимость_NOUN критический_ADJ высокий_ADJ уровень_NOUN опасность_NOUN обнаружить_VERB специалист_NOUN иб_PROPN встроенном_ADJ популярный_ADJ сетевой_ADJ хранилище_NOUN nas326_PROPN версия_NOUN прошивка_NOUN ранний_ADJ nas542_PROPN версия_NOUN прошивка_NOUN ранний_ADJ\n",
       "2902  Согласно последним исследованиям, Nematostella vectensis (литоральные роющие актинии из семейства Edwardsiidae) способны к удивительно сложному обучению, о чем свидетельствует их способность запоминать связь между светом и электрическими импульсами.\\n_x000D_\\n«Это именно то, что называется ассоциативным обучением, — говорит старший автор работы, нейробиолог из Фрибургского университета Саймон Шпрехер. — Доказательство того, что даже животные без мозга способны демонстрировать сложное поведение благодаря только лишь своей нервной системе».\\n_x000D_\\nЖивотные с мозгом могут связать стимул с реакцией и изменить своё поведение, основываясь на том, что они узнали и запомнили. Например, если вам не повезло узнать, что прикосновение к горячей плите причиняет боль, вы измените своё поведение, ...            Научно-популярное  последний_ADJ исследование_NOUN литоральный_ADJ рыть_VERB актиния_NOUN семейство_NOUN edwardsiidae_PROPN способный_ADJ удивительно_ADV сложный_ADJ обучение_NOUN свидетельствовать_VERB способность_NOUN запоминать_VERB связь_NOUN свет_NOUN электрический_ADJ импульсами_NOUN называться_VERB ассоциативный_ADJ обучение_NOUN говорить_VERB старший_ADJ автор_NOUN работа_NOUN нейробиолог_NOUN фрибургского_ADJ университет_NOUN саймон_PROPN шпрехер_PROPN доказательство_NOUN животное_NOUN мозг_NOUN способный_ADJ демонстрировать_VERB сложный_ADJ поведение_NOUN нервный_ADJ система_NOUN животное_NOUN мозг_NOUN связать_VERB стимул_NOUN реакция_NOUN изменить_VERB поведение_NOUN основываться_VERB узнать_VERB запомнить_VERB повезти_VERB узнать_VERB прикосновение_NOUN горячий_ADJ плита_NOUN причинять_VERB ...\n",
       "1562                                                                                                                                                                                                                                                                                                                                                                                                                                                                                                                                                                                                                           В Сбербанке предупредили, что мошенники часто создают фальшивые сети Wi-Fi и взламывают уже действующие публичные точки доступа, чтобы получать персональные данные россиян для кражи денег со счетов.  Информационная безопасность                                                                                                                                                                                                                                                                                                                                                                                                                                                                                                                                                                      сбербанк_PROPN предупредить_VERB мошенник_NOUN создавать_VERB фальшивый_ADJ сеть_NOUN wi_NOUN fi_PROPN взламывать_VERB действовать_VERB публичный_ADJ точка_NOUN доступ_NOUN получать_VERB персональный_ADJ россиянин_NOUN кража_NOUN деньга_NOUN счёт_NOUN"
      ]
     },
     "execution_count": 9,
     "metadata": {},
     "output_type": "execute_result"
    }
   ],
   "source": [
    "data.sample(3)"
   ]
  },
  {
   "cell_type": "code",
   "execution_count": 10,
   "metadata": {},
   "outputs": [],
   "source": [
    "# Сохраняем датасет в excel-файл\n",
    "data.to_excel('habr_news_dataset_20240218_preproc.xlsx', index_label='idx')"
   ]
  },
  {
   "cell_type": "markdown",
   "metadata": {},
   "source": [
    "Закодируем целевую переменную"
   ]
  },
  {
   "cell_type": "code",
   "execution_count": 11,
   "metadata": {},
   "outputs": [],
   "source": [
    "label_encoder = LabelEncoder()\n",
    "data['categs_encoded'] = label_encoder.fit_transform(data['categs'])"
   ]
  },
  {
   "cell_type": "markdown",
   "metadata": {},
   "source": [
    "Разбиваем выборку на train и test"
   ]
  },
  {
   "cell_type": "code",
   "execution_count": 12,
   "metadata": {},
   "outputs": [],
   "source": [
    "X_train, X_test, y_train, y_test = train_test_split(data['preproc_body'], \n",
    "                                                    data['categs_encoded'], \n",
    "                                                    test_size=0.2, \n",
    "                                                    random_state=42,\n",
    "                                                    stratify=data['categs_encoded'])"
   ]
  },
  {
   "cell_type": "markdown",
   "metadata": {},
   "source": [
    "#### Векторизация без использования предобученной модели"
   ]
  },
  {
   "cell_type": "markdown",
   "metadata": {},
   "source": [
    "Строим BoW на основе tf-idf"
   ]
  },
  {
   "cell_type": "code",
   "execution_count": 13,
   "metadata": {},
   "outputs": [],
   "source": [
    "tfidf_vectorizer = TfidfVectorizer(\n",
    "    analyzer='word',\n",
    "    norm=None,\n",
    "    ngram_range=(1, 2),\n",
    "    min_df=20,\n",
    "    max_df=0.8,\n",
    "    lowercase=False\n",
    ")\n",
    "\n",
    "X_train_tfidf = tfidf_vectorizer.fit_transform(X_train)\n",
    "X_test_tfidf = tfidf_vectorizer.transform(X_test)"
   ]
  },
  {
   "cell_type": "markdown",
   "metadata": {},
   "source": [
    "Размер словаря векторайзера:"
   ]
  },
  {
   "cell_type": "code",
   "execution_count": 52,
   "metadata": {},
   "outputs": [
    {
     "data": {
      "text/plain": [
       "1560"
      ]
     },
     "execution_count": 52,
     "metadata": {},
     "output_type": "execute_result"
    }
   ],
   "source": [
    "len(tfidf_vectorizer.vocabulary_)"
   ]
  },
  {
   "cell_type": "markdown",
   "metadata": {},
   "source": [
    "Сетка параметров и кросс-валидатор:"
   ]
  },
  {
   "cell_type": "code",
   "execution_count": 14,
   "metadata": {},
   "outputs": [],
   "source": [
    "param_grid = {\n",
    "    'n_estimators': [50, 100, 200, 300, 500], \n",
    "    'max_depth': [5, 8, 10, 15, 20]\n",
    "}\n",
    "\n",
    "cv = KFold(n_splits=5, shuffle=True, random_state=42)"
   ]
  },
  {
   "cell_type": "markdown",
   "metadata": {},
   "source": [
    "Ищем наилучшие гиперпараметры классификатора"
   ]
  },
  {
   "cell_type": "code",
   "execution_count": 38,
   "metadata": {},
   "outputs": [
    {
     "name": "stdout",
     "output_type": "stream",
     "text": [
      "Идет поиск наилучших гиперпараметров классификатора...\n",
      "CPU times: total: 5.61 s\n",
      "Wall time: 49.8 s\n",
      "Поиск завершен.\n"
     ]
    }
   ],
   "source": [
    "rfc_1 = RandomForestClassifier(random_state=42)\n",
    "gs_1 = GridSearchCV(rfc_1, param_grid, cv=cv, n_jobs=-1)\n",
    "\n",
    "print('Идет поиск наилучших гиперпараметров классификатора...')\n",
    "%time gs_1.fit(X_train_tfidf, y_train)\n",
    "print('Поиск завершен.')"
   ]
  },
  {
   "cell_type": "markdown",
   "metadata": {},
   "source": [
    "Найденные параметры"
   ]
  },
  {
   "cell_type": "code",
   "execution_count": 41,
   "metadata": {},
   "outputs": [
    {
     "name": "stdout",
     "output_type": "stream",
     "text": [
      "Best n_estimators = 500\n",
      "Best max_depth = 20\n"
     ]
    }
   ],
   "source": [
    "print(f\"Best n_estimators = {gs_1.best_params_['n_estimators']}\")\n",
    "print(f\"Best max_depth = {gs_1.best_params_['max_depth']}\")"
   ]
  },
  {
   "cell_type": "markdown",
   "metadata": {},
   "source": [
    "Обучаем классификатор с наилучшими гиперпараметрами"
   ]
  },
  {
   "cell_type": "code",
   "execution_count": 42,
   "metadata": {},
   "outputs": [
    {
     "name": "stdout",
     "output_type": "stream",
     "text": [
      "Accuracy:  0.7167630057803468\n",
      "F1:  0.5613877864549826\n",
      "              precision    recall  f1-score   support\n",
      "\n",
      "           0       1.00      0.05      0.09       127\n",
      "           1       0.80      0.64      0.71       154\n",
      "           2       0.80      0.23      0.35       163\n",
      "           3       0.56      0.95      0.71       389\n",
      "           4       0.94      0.94      0.94       378\n",
      "\n",
      "    accuracy                           0.72      1211\n",
      "   macro avg       0.82      0.56      0.56      1211\n",
      "weighted avg       0.79      0.72      0.67      1211\n",
      "\n"
     ]
    }
   ],
   "source": [
    "best_rfc_1 = gs_1.best_estimator_ \n",
    "y_pred = best_rfc_1.predict(X_test_tfidf)\n",
    "\n",
    "print('Accuracy: ', accuracy_score(y_test, y_pred))\n",
    "print('F1: ', f1_score(y_test, y_pred, average = 'macro'))\n",
    "print(classification_report(y_test, y_pred))"
   ]
  },
  {
   "cell_type": "markdown",
   "metadata": {},
   "source": [
    "#### Векторизация с использованием предобученной модели word2vec"
   ]
  },
  {
   "cell_type": "markdown",
   "metadata": {},
   "source": [
    "Посмотрим, какие модели доступны для скачивания через API gensim"
   ]
  },
  {
   "cell_type": "code",
   "execution_count": 23,
   "metadata": {},
   "outputs": [
    {
     "name": "stdout",
     "output_type": "stream",
     "text": [
      "['fasttext-wiki-news-subwords-300', 'conceptnet-numberbatch-17-06-300', 'word2vec-ruscorpora-300', 'word2vec-google-news-300', 'glove-wiki-gigaword-50', 'glove-wiki-gigaword-100', 'glove-wiki-gigaword-200', 'glove-wiki-gigaword-300', 'glove-twitter-25', 'glove-twitter-50', 'glove-twitter-100', 'glove-twitter-200', '__testing_word2vec-matrix-synopsis']\n"
     ]
    }
   ],
   "source": [
    "print(list(gensim.downloader.info()['models'].keys()))"
   ]
  },
  {
   "cell_type": "markdown",
   "metadata": {},
   "source": [
    "Загружаем \"word2vec-ruscorpora-300\""
   ]
  },
  {
   "cell_type": "code",
   "execution_count": 24,
   "metadata": {},
   "outputs": [
    {
     "name": "stderr",
     "output_type": "stream",
     "text": [
      "2024-04-09 21:32:18,335 : INFO : loading projection weights from C:\\Users\\Kirill_Nosov/gensim-data\\word2vec-ruscorpora-300\\word2vec-ruscorpora-300.gz\n",
      "2024-04-09 21:32:21,528 : INFO : KeyedVectors lifecycle event {'msg': 'loaded (184973, 300) matrix of type float32 from C:\\\\Users\\\\Kirill_Nosov/gensim-data\\\\word2vec-ruscorpora-300\\\\word2vec-ruscorpora-300.gz', 'binary': True, 'encoding': 'utf8', 'datetime': '2024-04-09T21:32:21.528550', 'gensim': '4.3.0', 'python': '3.11.7 | packaged by Anaconda, Inc. | (main, Dec 15 2023, 18:05:47) [MSC v.1916 64 bit (AMD64)]', 'platform': 'Windows-10-10.0.19045-SP0', 'event': 'load_word2vec_format'}\n"
     ]
    }
   ],
   "source": [
    "wv = gensim.downloader.load('word2vec-ruscorpora-300')"
   ]
  },
  {
   "cell_type": "markdown",
   "metadata": {},
   "source": [
    "Посмотрим на загруженную модель"
   ]
  },
  {
   "cell_type": "code",
   "execution_count": 25,
   "metadata": {},
   "outputs": [
    {
     "data": {
      "text/plain": [
       "184973"
      ]
     },
     "execution_count": 25,
     "metadata": {},
     "output_type": "execute_result"
    }
   ],
   "source": [
    "# Общее количество слов\n",
    "len(wv)"
   ]
  },
  {
   "cell_type": "code",
   "execution_count": 26,
   "metadata": {},
   "outputs": [
    {
     "data": {
      "text/plain": [
       "['весь_DET',\n",
       " 'человек_NOUN',\n",
       " 'мочь_VERB',\n",
       " 'год_NOUN',\n",
       " 'сказать_VERB',\n",
       " 'время_NOUN',\n",
       " 'говорить_VERB',\n",
       " 'становиться_VERB',\n",
       " 'знать_VERB',\n",
       " 'самый_DET']"
      ]
     },
     "execution_count": 26,
     "metadata": {},
     "output_type": "execute_result"
    }
   ],
   "source": [
    "# Первые 10 слов в словаре\n",
    "wv.index_to_key[:10]"
   ]
  },
  {
   "cell_type": "code",
   "execution_count": 27,
   "metadata": {},
   "outputs": [
    {
     "data": {
      "text/plain": [
       "[('сказать_VERB', 0.7460559606552124),\n",
       " ('заговаривать_VERB', 0.6289093494415283),\n",
       " ('разговаривать_VERB', 0.6109618544578552),\n",
       " ('думать_VERB', 0.5952857136726379),\n",
       " ('толковать_VERB', 0.5946201086044312),\n",
       " ('рассуждать_VERB', 0.5899632573127747),\n",
       " ('рассказывать_VERB', 0.5743502974510193),\n",
       " ('отвечать_VERB', 0.5691350698471069),\n",
       " ('возражать_VERB', 0.5670305490493774),\n",
       " ('уверять_VERB', 0.5664991736412048)]"
      ]
     },
     "execution_count": 27,
     "metadata": {},
     "output_type": "execute_result"
    }
   ],
   "source": [
    "# Оценим, например, семантическую близость для произвольного слова\n",
    "wv.most_similar(positive='говорить_VERB', topn=10)"
   ]
  },
  {
   "cell_type": "markdown",
   "metadata": {},
   "source": [
    "Cоздаем свой словарь, в котором каждому слову будет соответствовать предобученный вектор"
   ]
  },
  {
   "cell_type": "code",
   "execution_count": 28,
   "metadata": {},
   "outputs": [],
   "source": [
    "word2vec = dict(zip(wv.index_to_key, wv.vectors))"
   ]
  },
  {
   "cell_type": "markdown",
   "metadata": {},
   "source": [
    "Создаем класс для расчета средневзвешенных эмбедингов предобученной модели с весами idf, при этом используем ранее обученный tfidf_vectorizer"
   ]
  },
  {
   "cell_type": "code",
   "execution_count": 43,
   "metadata": {},
   "outputs": [],
   "source": [
    "class TfidfEmbeddingVectorizer(object):\n",
    "    def __init__(self, word2vec, tfidf_vectorizer):\n",
    "        self.word2vec = word2vec\n",
    "        self.word2weight = None\n",
    "        self.dim = len(word2vec.popitem()[1])\n",
    "        self.tfidf = tfidf_vectorizer\n",
    "\n",
    "    def fit(self, X, y=None):\n",
    "        max_idf = max(self.tfidf.idf_)\n",
    "        self.word2weight = defaultdict(lambda: max_idf, [(w, self.tfidf.idf_[i]) for w, i in self.tfidf.vocabulary_.items()])\n",
    "        return self\n",
    "\n",
    "    def transform(self, X):\n",
    "        return np.array([\n",
    "            np.mean(\n",
    "                [self.word2vec[w] * self.word2weight[w] for w in doc.split() if w in self.word2vec] \\\n",
    "                or [np.zeros(self.dim)], \n",
    "                axis=0\n",
    "            ) for doc in X\n",
    "        ])"
   ]
  },
  {
   "cell_type": "code",
   "execution_count": 44,
   "metadata": {},
   "outputs": [],
   "source": [
    "tfidf_emb_vectorizer = TfidfEmbeddingVectorizer(word2vec, tfidf_vectorizer) \n",
    "\n",
    "tfidf_emb_vectorizer.fit(X_train)\n",
    "X_train_emb = tfidf_emb_vectorizer.transform(X_train)\n",
    "X_test_emb = tfidf_emb_vectorizer.transform(X_test)"
   ]
  },
  {
   "cell_type": "code",
   "execution_count": 45,
   "metadata": {},
   "outputs": [
    {
     "name": "stdout",
     "output_type": "stream",
     "text": [
      "Идет поиск наилучших гиперпараметров классификатора...\n",
      "CPU times: total: 55.3 s\n",
      "Wall time: 10min 35s\n",
      "Поиск завершен.\n"
     ]
    }
   ],
   "source": [
    "rfc_2 = RandomForestClassifier(random_state=42)\n",
    "gs_2 = GridSearchCV(rfc_2, param_grid, cv=cv, n_jobs=-1)\n",
    "\n",
    "print('Идет поиск наилучших гиперпараметров классификатора...')\n",
    "%time gs_2.fit(X_train_emb, y_train)\n",
    "print('Поиск завершен.')"
   ]
  },
  {
   "cell_type": "code",
   "execution_count": 47,
   "metadata": {},
   "outputs": [
    {
     "name": "stdout",
     "output_type": "stream",
     "text": [
      "Best n_estimators = 500\n",
      "Best max_depth = 20\n"
     ]
    }
   ],
   "source": [
    "print(f\"Best n_estimators = {gs_2.best_params_['n_estimators']}\")\n",
    "print(f\"Best max_depth = {gs_2.best_params_['max_depth']}\")"
   ]
  },
  {
   "cell_type": "code",
   "execution_count": 48,
   "metadata": {},
   "outputs": [
    {
     "name": "stdout",
     "output_type": "stream",
     "text": [
      "Accuracy:  0.7415359207266722\n",
      "F1:  0.6337950678377972\n",
      "              precision    recall  f1-score   support\n",
      "\n",
      "           0       0.87      0.16      0.27       127\n",
      "           1       0.85      0.63      0.72       154\n",
      "           2       0.65      0.44      0.52       163\n",
      "           3       0.63      0.90      0.74       389\n",
      "           4       0.89      0.95      0.92       378\n",
      "\n",
      "    accuracy                           0.74      1211\n",
      "   macro avg       0.78      0.61      0.63      1211\n",
      "weighted avg       0.77      0.74      0.71      1211\n",
      "\n"
     ]
    }
   ],
   "source": [
    "best_rfc_2 = gs_2.best_estimator_\n",
    "y_pred = best_rfc_2.predict(X_test_emb)\n",
    "\n",
    "print('Accuracy: ', accuracy_score(y_test, y_pred))\n",
    "print('F1: ', f1_score(y_test, y_pred, average = 'macro'))\n",
    "print(classification_report(y_test, y_pred))"
   ]
  },
  {
   "cell_type": "markdown",
   "metadata": {},
   "source": [
    "Как видим, добавление информации о корпусе документов (т.е. весов tf-idf) привело к улучшению качества модели."
   ]
  }
 ],
 "metadata": {
  "kernelspec": {
   "display_name": "Python 3 (ipykernel)",
   "language": "python",
   "name": "python3"
  },
  "language_info": {
   "codemirror_mode": {
    "name": "ipython",
    "version": 3
   },
   "file_extension": ".py",
   "mimetype": "text/x-python",
   "name": "python",
   "nbconvert_exporter": "python",
   "pygments_lexer": "ipython3",
   "version": "3.11.7"
  }
 },
 "nbformat": 4,
 "nbformat_minor": 4
}
