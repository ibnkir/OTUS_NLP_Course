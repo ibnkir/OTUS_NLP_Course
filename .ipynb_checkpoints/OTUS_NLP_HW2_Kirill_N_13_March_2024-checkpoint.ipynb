{
 "cells": [
  {
   "cell_type": "markdown",
   "metadata": {},
   "source": [
    "### OTUS, Курс NLP\n",
    "#### ДЗ №02: Практика по PyTorch\n",
    "##### Выполнил: Кирилл Н., ibnkir@yandex.ru, 13.03.2024 г."
   ]
  },
  {
   "cell_type": "markdown",
   "metadata": {},
   "source": [
    "__Задание:__\n",
    "\n",
    "1. Используя PyTorch, создать и обучить регрессионную модель, которая аппроксимирует значение функции \n",
    "$$sin(x + 2y) \\cdot e^{-(2x + y)^2}$$ на диапазоне значений [-10;10] по х и у.\n",
    "\n",
    "2. В качестве обучающей выборки необходимо сгенерировать 20000 точек случайным образом.\n",
    "\n",
    "3. Разделить получившийся датасет на train / test / val в отношениях 70% / 15% / 15%, соответственно. \n",
    "\n",
    "__Результаты:__\n",
    "- Посчитать метрику Mean Square Error(MSE) на test.\n",
    "- Нарисовать график, в котором сравнивается истинная функция и ее аппроксимированный вариант (предсказываемый моделью)."
   ]
  },
  {
   "cell_type": "code",
   "execution_count": 739,
   "metadata": {},
   "outputs": [],
   "source": [
    "import numpy as np\n",
    "import torch\n",
    "import torch.utils.data as data_utils\n",
    "import torch.nn as nn\n",
    "from tqdm.notebook import tqdm\n",
    "import matplotlib.pyplot as plt\n",
    "import matplotlib\n",
    "\n",
    "%matplotlib inline"
   ]
  },
  {
   "cell_type": "markdown",
   "metadata": {},
   "source": [
    "#### Генерируем исходные данные и разбиваем их на три выборки"
   ]
  },
  {
   "cell_type": "code",
   "execution_count": 740,
   "metadata": {},
   "outputs": [],
   "source": [
    "# Кол-во наблюдений в исходных данных\n",
    "DATA_LEN = 20000\n",
    "\n",
    "# Размеры тренировочной, валидационной и обучающей выборок соответственно\n",
    "TRAIN_LEN = int(0.7 * DATA_LEN)\n",
    "VAL_LEN = int(0.15 * DATA_LEN)\n",
    "TEST_LEN = DATA_LEN - TRAIN_LEN - VAL_LEN"
   ]
  },
  {
   "cell_type": "code",
   "execution_count": 741,
   "metadata": {},
   "outputs": [],
   "source": [
    "# Исследуемая функция z(x, y)\n",
    "def func_z(x: torch.Tensor, y: torch.Tensor) -> torch.Tensor: \n",
    "    z = torch.sin(x + 2 * y) * torch.exp(-torch.square(2 * x + y))\n",
    "    return z  "
   ]
  },
  {
   "cell_type": "code",
   "execution_count": 742,
   "metadata": {},
   "outputs": [],
   "source": [
    "# Генерируем 3 тензора\n",
    "x = torch.rand(DATA_LEN)\n",
    "x = x * 20.0 - 10.0\n",
    "\n",
    "y = torch.rand(DATA_LEN)\n",
    "y = y * 20.0 - 10.0\n",
    "\n",
    "z = func_z(x, y)"
   ]
  },
  {
   "cell_type": "code",
   "execution_count": 743,
   "metadata": {},
   "outputs": [],
   "source": [
    "x.unsqueeze_(1)\n",
    "y.unsqueeze_(1)\n",
    "z.unsqueeze_(1);"
   ]
  },
  {
   "cell_type": "code",
   "execution_count": 744,
   "metadata": {},
   "outputs": [],
   "source": [
    "# Тензор признаков\n",
    "features = torch.cat([x, y], dim=1)"
   ]
  },
  {
   "cell_type": "code",
   "execution_count": 745,
   "metadata": {},
   "outputs": [],
   "source": [
    "features_train = features[:TRAIN_LEN]\n",
    "target_train = z[:TRAIN_LEN]\n",
    "\n",
    "features_val = features[TRAIN_LEN: TRAIN_LEN + VAL_LEN]\n",
    "target_val = z[TRAIN_LEN: TRAIN_LEN + VAL_LEN]\n",
    "\n",
    "features_test = features[-TEST_LEN:]\n",
    "target_test = z[-TEST_LEN:]"
   ]
  },
  {
   "cell_type": "markdown",
   "metadata": {},
   "source": [
    "#### Описание модели"
   ]
  },
  {
   "cell_type": "code",
   "execution_count": 746,
   "metadata": {},
   "outputs": [],
   "source": [
    "INPUT_SIZE = 2\n",
    "HIDDEN_SIZE_1 = 30\n",
    "HIDDEN_SIZE_2 = 30\n",
    "OUTPUT_SIZE = 1\n",
    "LEARNING_RATE = 1e-3\n",
    "EPOCHS = 1000\n",
    "BATCH_SIZE = 1"
   ]
  },
  {
   "cell_type": "code",
   "execution_count": 747,
   "metadata": {},
   "outputs": [],
   "source": [
    "class MySinNet(torch.nn.Module):\n",
    "    def __init__(self):\n",
    "        super(MySinNet, self).__init__()\n",
    "        self.fc1 = torch.nn.Linear(INPUT_SIZE, HIDDEN_SIZE_1)\n",
    "        self.act1 = torch.nn.ReLU()\n",
    "        self.fc2 = torch.nn.Linear(HIDDEN_SIZE_1, HIDDEN_SIZE_2)\n",
    "        self.act2 = torch.nn.ReLU()\n",
    "        self.fc3 = torch.nn.Linear(HIDDEN_SIZE_2, OUTPUT_SIZE)\n",
    "\n",
    "    def forward(self, x):\n",
    "        x = self.fc1(x)\n",
    "        x = self.act1(x)\n",
    "        x = self.fc2(x)\n",
    "        x = self.act2(x)\n",
    "        x = self.fc3(x)\n",
    "        return x"
   ]
  },
  {
   "cell_type": "markdown",
   "metadata": {},
   "source": [
    "#### Вспомогательные функции "
   ]
  },
  {
   "cell_type": "code",
   "execution_count": 748,
   "metadata": {},
   "outputs": [],
   "source": [
    "# Создание генераторов данных для обучения и валидации\n",
    "def create_data_loaders(features_train, target_train, features_val, target_val):\n",
    "    train_dataset = data_utils.TensorDataset(features_train, target_train)\n",
    "    train_loader = data_utils.DataLoader(dataset=train_dataset, batch_size=BATCH_SIZE, shuffle=True)\n",
    "\n",
    "    val_dataset = data_utils.TensorDataset(features_val, target_val)\n",
    "    val_loader = data_utils.DataLoader(dataset=val_dataset, batch_size=BATCH_SIZE, shuffle=False)\n",
    "    \n",
    "    return train_loader, val_loader"
   ]
  },
  {
   "cell_type": "code",
   "execution_count": 749,
   "metadata": {},
   "outputs": [],
   "source": [
    "# Функция обучения и валидации\n",
    "def run_train_val(model, optimizer, criterion, train_loader, val_loader):\n",
    "    train_loss = []\n",
    "    val_loss = []\n",
    "     \n",
    "    model.train()\n",
    "    for epoch in tqdm(range(EPOCHS)):\n",
    "        running_loss = []\n",
    "        \n",
    "        for features, target in train_loader:\n",
    "            optimizer.zero_grad()\n",
    "            output = model(features)\n",
    "            loss = criterion(output, target)\n",
    "            loss.backward()\n",
    "            optimizer.step()\n",
    "            running_loss.append(loss.item())\n",
    "            \n",
    "        train_loss.append(np.mean(running_loss))\n",
    "        if epoch % 20 == 0:\n",
    "            print('EPOCH %d : train_loss: %f' % (epoch, train_loss[-1]))\n",
    "\n",
    "        model.eval()\n",
    "        running_loss = []\n",
    "        with torch.no_grad():\n",
    "            for features, target in val_loader:\n",
    "                output = model(features)\n",
    "                loss = criterion(output, target)\n",
    "                running_loss.append(loss.item())\n",
    "                \n",
    "        val_loss.append(np.mean(running_loss))\n",
    "        if epoch % 20 == 0:\n",
    "            print('EPOCH %d : val_loss: %f' % (epoch, val_loss[-1]))\n",
    "        \n",
    "    return train_loss, val_loss"
   ]
  },
  {
   "cell_type": "markdown",
   "metadata": {},
   "source": [
    "#### Обучение и валидация модели"
   ]
  },
  {
   "cell_type": "code",
   "execution_count": 750,
   "metadata": {},
   "outputs": [],
   "source": [
    "train_loader, val_loader = create_data_loaders(features_train, target_train, features_val, target_val)"
   ]
  },
  {
   "cell_type": "code",
   "execution_count": 751,
   "metadata": {},
   "outputs": [],
   "source": [
    "model = MySinNet()\n",
    "optimizer = torch.optim.Adam(model.parameters(), lr=LEARNING_RATE)\n",
    "#optimizer = torch.optim.RMSprop(model.parameters(), lr=LEARNING_RATE)\n",
    "loss = nn.MSELoss()"
   ]
  },
  {
   "cell_type": "code",
   "execution_count": 752,
   "metadata": {
    "scrolled": true
   },
   "outputs": [
    {
     "data": {
      "application/vnd.jupyter.widget-view+json": {
       "model_id": "a593e9bc1ca44ac0b5e7aa264c8d3e72",
       "version_major": 2,
       "version_minor": 0
      },
      "text/plain": [
       "  0%|          | 0/1000 [00:00<?, ?it/s]"
      ]
     },
     "metadata": {},
     "output_type": "display_data"
    },
    {
     "name": "stdout",
     "output_type": "stream",
     "text": [
      "EPOCH 0 : train_loss: 0.017728\n",
      "EPOCH 0 : val_loss: 0.015620\n",
      "EPOCH 20 : train_loss: 0.012126\n",
      "EPOCH 20 : val_loss: 0.011778\n",
      "EPOCH 40 : train_loss: 0.011994\n",
      "EPOCH 40 : val_loss: 0.011418\n",
      "EPOCH 60 : train_loss: 0.011966\n",
      "EPOCH 60 : val_loss: 0.011192\n",
      "EPOCH 80 : train_loss: 0.011149\n",
      "EPOCH 80 : val_loss: 0.010869\n",
      "EPOCH 100 : train_loss: 0.010932\n",
      "EPOCH 100 : val_loss: 0.010456\n",
      "EPOCH 120 : train_loss: 0.010789\n",
      "EPOCH 120 : val_loss: 0.010445\n",
      "EPOCH 140 : train_loss: 0.010775\n",
      "EPOCH 140 : val_loss: 0.010378\n",
      "EPOCH 160 : train_loss: 0.010784\n",
      "EPOCH 160 : val_loss: 0.010229\n",
      "EPOCH 180 : train_loss: 0.010751\n",
      "EPOCH 180 : val_loss: 0.010150\n",
      "EPOCH 200 : train_loss: 0.010744\n",
      "EPOCH 200 : val_loss: 0.010248\n",
      "EPOCH 220 : train_loss: 0.008609\n",
      "EPOCH 220 : val_loss: 0.008694\n",
      "EPOCH 240 : train_loss: 0.008037\n",
      "EPOCH 240 : val_loss: 0.008037\n",
      "EPOCH 260 : train_loss: 0.008035\n",
      "EPOCH 260 : val_loss: 0.008223\n",
      "EPOCH 280 : train_loss: 0.007849\n",
      "EPOCH 280 : val_loss: 0.007648\n",
      "EPOCH 300 : train_loss: 0.007840\n",
      "EPOCH 300 : val_loss: 0.008418\n",
      "EPOCH 320 : train_loss: 0.007856\n",
      "EPOCH 320 : val_loss: 0.008411\n",
      "EPOCH 340 : train_loss: 0.007830\n",
      "EPOCH 340 : val_loss: 0.007726\n",
      "EPOCH 360 : train_loss: 0.007787\n",
      "EPOCH 360 : val_loss: 0.008054\n",
      "EPOCH 380 : train_loss: 0.007755\n",
      "EPOCH 380 : val_loss: 0.008794\n",
      "EPOCH 400 : train_loss: 0.007754\n",
      "EPOCH 400 : val_loss: 0.008086\n",
      "EPOCH 420 : train_loss: 0.007717\n",
      "EPOCH 420 : val_loss: 0.007860\n",
      "EPOCH 440 : train_loss: 0.007730\n",
      "EPOCH 440 : val_loss: 0.007625\n",
      "EPOCH 460 : train_loss: 0.007748\n",
      "EPOCH 460 : val_loss: 0.008056\n",
      "EPOCH 480 : train_loss: 0.007647\n",
      "EPOCH 480 : val_loss: 0.007662\n",
      "EPOCH 500 : train_loss: 0.007689\n",
      "EPOCH 500 : val_loss: 0.007699\n",
      "EPOCH 520 : train_loss: 0.007637\n",
      "EPOCH 520 : val_loss: 0.008325\n",
      "EPOCH 540 : train_loss: 0.007682\n",
      "EPOCH 540 : val_loss: 0.008691\n",
      "EPOCH 560 : train_loss: 0.007656\n",
      "EPOCH 560 : val_loss: 0.008312\n",
      "EPOCH 580 : train_loss: 0.007718\n",
      "EPOCH 580 : val_loss: 0.008347\n",
      "EPOCH 600 : train_loss: 0.007680\n",
      "EPOCH 600 : val_loss: 0.007673\n",
      "EPOCH 620 : train_loss: 0.007663\n",
      "EPOCH 620 : val_loss: 0.008208\n",
      "EPOCH 640 : train_loss: 0.007702\n",
      "EPOCH 640 : val_loss: 0.008481\n",
      "EPOCH 660 : train_loss: 0.007686\n",
      "EPOCH 660 : val_loss: 0.007678\n",
      "EPOCH 680 : train_loss: 0.007640\n",
      "EPOCH 680 : val_loss: 0.007673\n",
      "EPOCH 700 : train_loss: 0.007676\n",
      "EPOCH 700 : val_loss: 0.007992\n",
      "EPOCH 720 : train_loss: 0.007631\n",
      "EPOCH 720 : val_loss: 0.007894\n",
      "EPOCH 740 : train_loss: 0.007643\n",
      "EPOCH 740 : val_loss: 0.008858\n",
      "EPOCH 760 : train_loss: 0.007728\n",
      "EPOCH 760 : val_loss: 0.008299\n",
      "EPOCH 780 : train_loss: 0.007652\n",
      "EPOCH 780 : val_loss: 0.007806\n",
      "EPOCH 800 : train_loss: 0.007614\n",
      "EPOCH 800 : val_loss: 0.007846\n",
      "EPOCH 820 : train_loss: 0.007551\n",
      "EPOCH 820 : val_loss: 0.007885\n",
      "EPOCH 840 : train_loss: 0.007611\n",
      "EPOCH 840 : val_loss: 0.008027\n",
      "EPOCH 860 : train_loss: 0.007626\n",
      "EPOCH 860 : val_loss: 0.007778\n",
      "EPOCH 880 : train_loss: 0.007618\n",
      "EPOCH 880 : val_loss: 0.007795\n",
      "EPOCH 900 : train_loss: 0.007704\n",
      "EPOCH 900 : val_loss: 0.008252\n",
      "EPOCH 920 : train_loss: 0.007592\n",
      "EPOCH 920 : val_loss: 0.008119\n",
      "EPOCH 940 : train_loss: 0.007631\n",
      "EPOCH 940 : val_loss: 0.007761\n",
      "EPOCH 960 : train_loss: 0.007588\n",
      "EPOCH 960 : val_loss: 0.007775\n",
      "EPOCH 980 : train_loss: 0.007634\n",
      "EPOCH 980 : val_loss: 0.008206\n"
     ]
    }
   ],
   "source": [
    "train_loss, val_loss = run_train_val(\n",
    "    model, \n",
    "    optimizer=optimizer, \n",
    "    criterion=loss, \n",
    "    train_loader=train_loader,\n",
    "    val_loader=val_loader\n",
    ")"
   ]
  },
  {
   "cell_type": "code",
   "execution_count": 753,
   "metadata": {},
   "outputs": [
    {
     "name": "stdout",
     "output_type": "stream",
     "text": [
      "Train loss после завершения обучения: 0.005400\n",
      "Validation loss после завершения обучения: 0.006258\n"
     ]
    }
   ],
   "source": [
    "print(f'Train loss после завершения обучения: {train_loss[-1]:.6f}')\n",
    "print(f'Validation loss после завершения обучения: {val_loss[-1]:.6f}')"
   ]
  },
  {
   "cell_type": "markdown",
   "metadata": {},
   "source": [
    "#### Оценка на тестовой выборке"
   ]
  },
  {
   "cell_type": "code",
   "execution_count": 754,
   "metadata": {},
   "outputs": [
    {
     "name": "stdout",
     "output_type": "stream",
     "text": [
      "Средний test loss: 0.005069\n"
     ]
    }
   ],
   "source": [
    "model.eval()\n",
    "with torch.no_grad():\n",
    "    output = model(features_test)\n",
    "\n",
    "test_loss = loss(output, target_test).item()\n",
    "print(f'Средний test loss: {test_loss:.6f}')"
   ]
  },
  {
   "cell_type": "markdown",
   "metadata": {},
   "source": [
    "#### Построение графика"
   ]
  },
  {
   "cell_type": "code",
   "execution_count": 755,
   "metadata": {},
   "outputs": [],
   "source": [
    "# Готовим сетку xy\n",
    "x_grid, y_grid = torch.meshgrid(torch.arange(-10., 11., 2.), torch.arange(-10., 11., 2.), indexing='xy')\n",
    "z_true_grid = func_z(x_grid, y_grid)"
   ]
  },
  {
   "cell_type": "code",
   "execution_count": 756,
   "metadata": {},
   "outputs": [
    {
     "data": {
      "image/png": "[encoded data removed]",
      "text/plain": [
       "<Figure size 200x200 with 1 Axes>"
      ]
     },
     "metadata": {},
     "output_type": "display_data"
    }
   ],
   "source": [
    "# График с истинными значениями\n",
    "ax = plt.figure().add_subplot(projection='3d')\n",
    "\n",
    "ax.plot_surface(\n",
    "    x_grid.numpy(), \n",
    "    y_grid.numpy(), \n",
    "    z_true_grid.numpy(),\n",
    "    alpha=0.6, \n",
    "    cmap=\"rainbow\"\n",
    ")\n",
    "\n",
    "ax.zaxis.set_major_formatter('{x:.02f}')\n",
    "ax.set_zlim(z_true_grid.min(), z_true_grid.max())\n",
    "ax.set_xlabel('X')\n",
    "ax.set_ylabel('Y')\n",
    "plt.title(\"Истинные значения\")\n",
    "plt.show()"
   ]
  },
  {
   "cell_type": "code",
   "execution_count": 757,
   "metadata": {},
   "outputs": [],
   "source": [
    "# Меняем размерность данных и делаем инференс модели\n",
    "x_flat = x_grid.reshape(-1).unsqueeze(1)\n",
    "y_flat = y_grid.reshape(-1).unsqueeze(1)\n",
    "\n",
    "xy = torch.cat([x_flat, y_flat], dim=1)"
   ]
  },
  {
   "cell_type": "code",
   "execution_count": 758,
   "metadata": {},
   "outputs": [],
   "source": [
    "model.eval()\n",
    "with torch.no_grad():\n",
    "    z_pred = model(xy)\n",
    "    \n",
    "z_pred_grid = z_pred.squeeze(1).reshape((11, 11))"
   ]
  },
  {
   "cell_type": "code",
   "execution_count": 759,
   "metadata": {},
   "outputs": [
    {
     "data": {
      "image/png": "[encoded data removed]",
      "text/plain": [
       "<Figure size 200x200 with 1 Axes>"
      ]
     },
     "metadata": {},
     "output_type": "display_data"
    }
   ],
   "source": [
    "# График с предсказанными значениями\n",
    "ax = plt.figure().add_subplot(projection='3d')\n",
    "\n",
    "ax.plot_surface(\n",
    "    x_grid.numpy(), \n",
    "    y_grid.numpy(), \n",
    "    z_pred_grid.numpy(),\n",
    "    alpha=0.6, \n",
    "    cmap=\"rainbow\"\n",
    ")\n",
    "\n",
    "ax.zaxis.set_major_formatter('{x:.02f}')\n",
    "ax.set_xlabel('X')\n",
    "ax.set_ylabel('Y')\n",
    "ax.set_zlim(z_true_grid.min(), z_true_grid.max())\n",
    "plt.title(\"Предсказанные значения\")\n",
    "plt.show()"
   ]
  },
  {
   "cell_type": "markdown",
   "metadata": {},
   "source": [
    "__Выводы:__ Наибольшее влияние на точность аппроксимации оказали количество и размер внутренних слоев, а также количество итераций обучения (эпох)."
   ]
  }
 ],
 "metadata": {
  "kernelspec": {
   "display_name": "Python 3 (ipykernel)",
   "language": "python",
   "name": "python3"
  },
  "language_info": {
   "codemirror_mode": {
    "name": "ipython",
    "version": 3
   },
   "file_extension": ".py",
   "mimetype": "text/x-python",
   "name": "python",
   "nbconvert_exporter": "python",
   "pygments_lexer": "ipython3",
   "version": "3.11.7"
  }
 },
 "nbformat": 4,
 "nbformat_minor": 4
}
