{
 "cells": [
  {
   "cell_type": "markdown",
   "metadata": {},
   "source": [
    "## OTUS, Курс NLP\n",
    "## ДЗ №01: Парсинг данных\n",
    "### Выполнил: Кирилл Н., ibnkir@yandex.ru, 18.02.2024 г."
   ]
  },
  {
   "cell_type": "markdown",
   "metadata": {},
   "source": [
    "Описание: собираем новости на Хабре (дата публикации, ссылка, название, краткое содержание, категории, время на прочтение, среднее кол-во просмотров в день). В конце сравниваем категории по частоте и популярности."
   ]
  },
  {
   "cell_type": "markdown",
   "metadata": {},
   "source": [
    "#### 1. Парсинг"
   ]
  },
  {
   "cell_type": "code",
   "execution_count": 1,
   "metadata": {},
   "outputs": [],
   "source": [
    "import requests\n",
    "from bs4 import BeautifulSoup\n",
    "import numpy as np   \n",
    "import pandas as pd  \n",
    "import time   \n",
    "from tqdm import tqdm\n",
    "from fake_useragent import UserAgent\n",
    "import re\n",
    "from datetime import datetime\n",
    "import matplotlib.pyplot as plt\n",
    "\n",
    "%matplotlib inline"
   ]
  },
  {
   "cell_type": "code",
   "execution_count": 2,
   "metadata": {},
   "outputs": [
    {
     "name": "stdout",
     "output_type": "stream",
     "text": [
      "Collecting fake_useragent\n",
      "  Downloading fake_useragent-1.4.0-py3-none-any.whl.metadata (13 kB)\n",
      "Downloading fake_useragent-1.4.0-py3-none-any.whl (15 kB)\n",
      "Installing collected packages: fake_useragent\n",
      "Successfully installed fake_useragent-1.4.0\n"
     ]
    }
   ],
   "source": [
    "#!pip install fake_useragent"
   ]
  },
  {
   "cell_type": "code",
   "execution_count": 2,
   "metadata": {},
   "outputs": [],
   "source": [
    "# Парсинг веб-страницы по переданной ссылке с заполнением выходного датафрейма\n",
    "def parsePage(page_url, start_dtm, df_out):\n",
    "    \n",
    "    response = requests.get(page_url, headers={'User-Agent': UserAgent().chrome})\n",
    "    if not response.ok:\n",
    "        return response.status_code, df_out\n",
    "    \n",
    "    soup = BeautifulSoup(response.text, 'lxml')\n",
    "\n",
    "    dates_arr = []\n",
    "    urls_arr = []\n",
    "    titles_arr = []\n",
    "    bodies_arr = []\n",
    "    minutes2read_arr = []\n",
    "    daily_views_arr = []\n",
    "    categs_arr = []\n",
    "    \n",
    "    for article in soup.find_all('article'):\n",
    "        tag = article.find('a', attrs={'class':'tm-article-datetime-published'})\n",
    "\n",
    "        date = tag.time.attrs['title']\n",
    "        date = re.match(r'\\d{4}-\\d{2}-\\d{2}', date).group(0)\n",
    "        dates_arr.append(date)\n",
    "        period_days = abs((start_dtm - datetime.strptime(date, \"%Y-%m-%d\")).days)\n",
    "    \n",
    "        href = tag.attrs['href']\n",
    "        urls_arr.append('https://habr.com' + href)\n",
    "      \n",
    "        title = article.find('h2', attrs={'class': 'tm-title tm-title_h2'}).span.text.strip()\n",
    "        titles_arr.append(title)\n",
    "\n",
    "        body = article.find('div', attrs={'class': 'article-formatted-body'}).text.strip()\n",
    "        bodies_arr.append(body)\n",
    "        \n",
    "        minutes2read = article.find('span', attrs={'class': 'tm-article-reading-time__label'}).text.strip()\n",
    "        minutes2read_arr.append(re.search(r'\\d+', minutes2read).group())\n",
    "   \n",
    "        views = article.find('span', attrs={'class': 'tm-icon-counter__value'}).text.strip()\n",
    "        if views.endswith('K') or views.endswith('К'):\n",
    "            views = int(float(views[:-1]) * 1e3)\n",
    "        elif views.endswith('M') or views.endswith('М'):\n",
    "            views = int(float(views[:-1]) * 1e6)\n",
    "        else:\n",
    "            views = int(views)\n",
    "        daily_views = views / (1 if period_days == 0 else period_days)\n",
    "        daily_views_arr.append(daily_views)\n",
    "        \n",
    "        curr_categs = []\n",
    "        for categ in article.find_all('a', attrs={'class': 'tm-publication-hub__link'}):\n",
    "            curr_categs.append(categ.span.text.strip())\n",
    "        categs_arr.append(';'.join(curr_categs))\n",
    "            \n",
    "\n",
    "    if len(dates_arr) > 0:\n",
    "        df_row = pd.DataFrame(\n",
    "            {\n",
    "            'date': dates_arr, \n",
    "            'url': urls_arr, \n",
    "            'title': titles_arr, \n",
    "            'body': bodies_arr, \n",
    "            'minutes2read': minutes2read_arr, \n",
    "            'daily_views': daily_views_arr,\n",
    "            'categs': categs_arr\n",
    "            }\n",
    "        )\n",
    "\n",
    "        df_out = pd.concat([df_out, df_row], ignore_index=True)\n",
    "    \n",
    "    return response.status_code, df_out"
   ]
  },
  {
   "cell_type": "code",
   "execution_count": 8,
   "metadata": {},
   "outputs": [],
   "source": [
    "# Начальный дататайм\n",
    "start_dtm = datetime.now()\n",
    "\n",
    "# Выходной датафрейм для результатов парсинга\n",
    "df_out = pd.DataFrame(columns=['date', 'url', 'title', 'body', 'minutes2read', 'daily_views', 'categs'])\n",
    "\n",
    "# Сколько новостных страниц парсить (макс кол-во на данный момент - 2148, см. https://habr.com/ru/news/page2149)\n",
    "pages_num = 1000"
   ]
  },
  {
   "cell_type": "code",
   "execution_count": 9,
   "metadata": {},
   "outputs": [
    {
     "name": "stderr",
     "output_type": "stream",
     "text": [
      "Pages: 100%|███████████████████████████████████████████████████████████████████████| 1000/1000 [24:46<00:00,  1.49s/it]"
     ]
    },
    {
     "name": "stdout",
     "output_type": "stream",
     "text": [
      "Parsing completed successfully\n"
     ]
    },
    {
     "name": "stderr",
     "output_type": "stream",
     "text": [
      "\n"
     ]
    }
   ],
   "source": [
    "# Парсим заданное кол-во веб-страниц с новостями\n",
    "for num in tqdm(range(1, pages_num + 1), desc='Pages'):\n",
    "    url = f'https://habr.com/ru/news/page{num}/'\n",
    "    \n",
    "    # Делаем максимум 3 попытки скачать одну страницу. Если ни одна не удалась, прекращаем парсинг.\n",
    "    for i in range(3):\n",
    "        resp_code, df_out = parsePage(url, start_dtm, df_out)\n",
    "        \n",
    "        if resp_code == 200:\n",
    "            break    \n",
    "        else:\n",
    "            print(f'Warning! Parsing once again: {url}')\n",
    "            time.sleep(0.3)       \n",
    "    else:\n",
    "        print(f'Warning! Parsing terminated abnormally, fatal error on the page: {url}')\n",
    "        break\n",
    "    \n",
    "    time.sleep(0.3)\n",
    " \n",
    "else:\n",
    "    print('Parsing completed successfully')"
   ]
  },
  {
   "cell_type": "code",
   "execution_count": 10,
   "metadata": {},
   "outputs": [
    {
     "data": {
      "text/html": [
       "<div>\n",
       "<style scoped>\n",
       "    .dataframe tbody tr th:only-of-type {\n",
       "        vertical-align: middle;\n",
       "    }\n",
       "\n",
       "    .dataframe tbody tr th {\n",
       "        vertical-align: top;\n",
       "    }\n",
       "\n",
       "    .dataframe thead th {\n",
       "        text-align: right;\n",
       "    }\n",
       "</style>\n",
       "<table border=\"1\" class=\"dataframe\">\n",
       "  <thead>\n",
       "    <tr style=\"text-align: right;\">\n",
       "      <th></th>\n",
       "      <th>date</th>\n",
       "      <th>url</th>\n",
       "      <th>title</th>\n",
       "      <th>body</th>\n",
       "      <th>minutes2read</th>\n",
       "      <th>daily_views</th>\n",
       "      <th>categs</th>\n",
       "    </tr>\n",
       "  </thead>\n",
       "  <tbody>\n",
       "    <tr>\n",
       "      <th>0</th>\n",
       "      <td>2024-02-18</td>\n",
       "      <td>https://habr.com/ru/news/794518/</td>\n",
       "      <td>Пользователь обнаружил и поделился зловредом д...</td>\n",
       "      <td>Пользователь Reddit под ником VegetableLuck об...</td>\n",
       "      <td>2</td>\n",
       "      <td>3800.0</td>\n",
       "      <td>Информационная безопасность;Антивирусная защит...</td>\n",
       "    </tr>\n",
       "    <tr>\n",
       "      <th>1</th>\n",
       "      <td>2024-02-18</td>\n",
       "      <td>https://habr.com/ru/news/794496/</td>\n",
       "      <td>Релиз LineageOS 21 на основе Android 14</td>\n",
       "      <td>В середине февраля 2024 года состоялся релиз п...</td>\n",
       "      <td>4</td>\n",
       "      <td>5300.0</td>\n",
       "      <td>Open source;Разработка под Android;Смартфоны;С...</td>\n",
       "    </tr>\n",
       "    <tr>\n",
       "      <th>2</th>\n",
       "      <td>2024-02-18</td>\n",
       "      <td>https://habr.com/ru/news/794482/</td>\n",
       "      <td>Сбой в облачном сервисе Wyze открыл некоторым ...</td>\n",
       "      <td>Wyze Labs расследует проблему безопасности во ...</td>\n",
       "      <td>1</td>\n",
       "      <td>2300.0</td>\n",
       "      <td>Информационная безопасность;Умный дом</td>\n",
       "    </tr>\n",
       "    <tr>\n",
       "      <th>3</th>\n",
       "      <td>2024-02-18</td>\n",
       "      <td>https://habr.com/ru/news/794474/</td>\n",
       "      <td>Новая функция Google Chrome блокирует атаки на...</td>\n",
       "      <td>Google тестирует новую функцию, предотвращающу...</td>\n",
       "      <td>2</td>\n",
       "      <td>3300.0</td>\n",
       "      <td>Информационная безопасность;Сетевые технологии...</td>\n",
       "    </tr>\n",
       "    <tr>\n",
       "      <th>4</th>\n",
       "      <td>2024-02-18</td>\n",
       "      <td>https://habr.com/ru/news/794472/</td>\n",
       "      <td>Microsoft представила обновление Sticky Notes ...</td>\n",
       "      <td>Microsoft представила «большое обновление» для...</td>\n",
       "      <td>1</td>\n",
       "      <td>2400.0</td>\n",
       "      <td>Управление продуктом;Разработка под Windows;Софт</td>\n",
       "    </tr>\n",
       "  </tbody>\n",
       "</table>\n",
       "</div>"
      ],
      "text/plain": [
       "         date                               url  \\\n",
       "0  2024-02-18  https://habr.com/ru/news/794518/   \n",
       "1  2024-02-18  https://habr.com/ru/news/794496/   \n",
       "2  2024-02-18  https://habr.com/ru/news/794482/   \n",
       "3  2024-02-18  https://habr.com/ru/news/794474/   \n",
       "4  2024-02-18  https://habr.com/ru/news/794472/   \n",
       "\n",
       "                                               title  \\\n",
       "0  Пользователь обнаружил и поделился зловредом д...   \n",
       "1            Релиз LineageOS 21 на основе Android 14   \n",
       "2  Сбой в облачном сервисе Wyze открыл некоторым ...   \n",
       "3  Новая функция Google Chrome блокирует атаки на...   \n",
       "4  Microsoft представила обновление Sticky Notes ...   \n",
       "\n",
       "                                                body minutes2read  \\\n",
       "0  Пользователь Reddit под ником VegetableLuck об...            2   \n",
       "1  В середине февраля 2024 года состоялся релиз п...            4   \n",
       "2  Wyze Labs расследует проблему безопасности во ...            1   \n",
       "3  Google тестирует новую функцию, предотвращающу...            2   \n",
       "4  Microsoft представила «большое обновление» для...            1   \n",
       "\n",
       "   daily_views                                             categs  \n",
       "0       3800.0  Информационная безопасность;Антивирусная защит...  \n",
       "1       5300.0  Open source;Разработка под Android;Смартфоны;С...  \n",
       "2       2300.0              Информационная безопасность;Умный дом  \n",
       "3       3300.0  Информационная безопасность;Сетевые технологии...  \n",
       "4       2400.0   Управление продуктом;Разработка под Windows;Софт  "
      ]
     },
     "execution_count": 10,
     "metadata": {},
     "output_type": "execute_result"
    }
   ],
   "source": [
    "# Результаты парсинга\n",
    "df_out.head()"
   ]
  },
  {
   "cell_type": "code",
   "execution_count": 11,
   "metadata": {},
   "outputs": [],
   "source": [
    "# Сохраняем датасет в excel-файл\n",
    "df_out.to_excel('habr_news_dataset_20240218.xlsx')"
   ]
  },
  {
   "cell_type": "markdown",
   "metadata": {},
   "source": [
    "#### 2. Exploratory data analysis"
   ]
  },
  {
   "cell_type": "markdown",
   "metadata": {},
   "source": [
    "Посмотрим основные статистики среднего кол-ва просмотров за день по всем загруженным новостям."
   ]
  },
  {
   "cell_type": "code",
   "execution_count": 12,
   "metadata": {},
   "outputs": [
    {
     "data": {
      "text/plain": [
       "count    20000.000000\n",
       "mean        48.395558\n",
       "std        299.571305\n",
       "min          0.212237\n",
       "25%          3.333333\n",
       "50%          7.636364\n",
       "75%         21.741848\n",
       "max      12307.692308\n",
       "Name: daily_views, dtype: float64"
      ]
     },
     "execution_count": 12,
     "metadata": {},
     "output_type": "execute_result"
    }
   ],
   "source": [
    "df_out.daily_views.describe()"
   ]
  },
  {
   "cell_type": "markdown",
   "metadata": {},
   "source": [
    "Найдем кол-во новостей и среднее кол-во просмотров за день по каждой категории. Если новость относится к нескольким категориям, то будем считать ее соответствующее кол-во раз."
   ]
  },
  {
   "cell_type": "code",
   "execution_count": 13,
   "metadata": {},
   "outputs": [],
   "source": [
    "# Заполняем словарь с кол-вом новостей и просмотрами по каждой категории\n",
    "ht = {}\n",
    "for i in range(len(df_out)):\n",
    "    categs = df_out.loc[i, 'categs'].split(';')\n",
    "    daily_views = df_out.loc[i, 'daily_views']\n",
    "    for categ in categs:\n",
    "        if categ not in ht:\n",
    "            ht[categ] = {'news_num': 1, 'daily_views': daily_views}\n",
    "        else:\n",
    "            ht[categ]['news_num'] += 1\n",
    "            ht[categ]['daily_views'] += daily_views           "
   ]
  },
  {
   "cell_type": "code",
   "execution_count": 14,
   "metadata": {},
   "outputs": [],
   "source": [
    "# Дополнительно усредняем кол-во просмотров по кол-ву новостей, чтобы получить среднее кол-во \n",
    "# просмотров в день на 1 новость внутри каждой категории\n",
    "for categ in ht:\n",
    "    ht[categ]['daily_views'] /= ht[categ]['news_num']"
   ]
  },
  {
   "cell_type": "code",
   "execution_count": 15,
   "metadata": {},
   "outputs": [],
   "source": [
    "# Возмьем 10 самых крупных категорий по кол-ву опубликованных новостей\n",
    "ht_news_sorted = sorted(ht.items(), key=lambda x:x[1]['news_num'])[-10:]\n",
    "k, v = map(list, zip(*ht_news_sorted)) "
   ]
  },
  {
   "cell_type": "code",
   "execution_count": 16,
   "metadata": {},
   "outputs": [
    {
     "data": {
      "image/png": "[encoded data removed]",
      "text/plain": [
       "<Figure size 432x288 with 1 Axes>"
      ]
     },
     "metadata": {
      "needs_background": "light"
     },
     "output_type": "display_data"
    }
   ],
   "source": [
    "# Построим горизонтальную гистограмму\n",
    "plt.barh(k, [x['news_num'] for x in v])\n",
    "plt.title('Первые 10 категорий по кол-ву опубликованных новостей')\n",
    "plt.show()"
   ]
  },
  {
   "cell_type": "code",
   "execution_count": 17,
   "metadata": {},
   "outputs": [],
   "source": [
    "# Возмьем 10 самых крупных категорий по среднему кол-ву просмотров одной новости в день\n",
    "ht_views_sorted = sorted(ht.items(), key=lambda x:x[1]['daily_views'])[-10:]\n",
    "k, v = map(list, zip(*ht_views_sorted)) "
   ]
  },
  {
   "cell_type": "code",
   "execution_count": 18,
   "metadata": {},
   "outputs": [
    {
     "data": {
      "image/png": "[encoded data removed]",
      "text/plain": [
       "<Figure size 432x288 with 1 Axes>"
      ]
     },
     "metadata": {
      "needs_background": "light"
     },
     "output_type": "display_data"
    }
   ],
   "source": [
    "# Построим горизонтальную гистограмму\n",
    "plt.barh(k, [x['daily_views'] for x in v])\n",
    "plt.title('Первые 10 категорий по среднему кол-ву просмотров одной новости в день')\n",
    "plt.show()"
   ]
  },
  {
   "cell_type": "markdown",
   "metadata": {},
   "source": [
    "Таким образом, можно заметить, что новостные категории сильно отличаются по кол-ву публикаций и уровню популярности. "
   ]
  }
 ],
 "metadata": {
  "kernelspec": {
   "display_name": "Python 3 (ipykernel)",
   "language": "python",
   "name": "python3"
  },
  "language_info": {
   "codemirror_mode": {
    "name": "ipython",
    "version": 3
   },
   "file_extension": ".py",
   "mimetype": "text/x-python",
   "name": "python",
   "nbconvert_exporter": "python",
   "pygments_lexer": "ipython3",
   "version": "3.11.7"
  }
 },
 "nbformat": 4,
 "nbformat_minor": 4
}
